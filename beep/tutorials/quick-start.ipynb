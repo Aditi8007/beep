{
 "cells": [
  {
   "cell_type": "markdown",
   "metadata": {},
   "source": [
    "# Quick Start Tutorial\n",
    "This notebook is meant to demonstrate basic usage of the beep package with data from \"Data-driven prediction of battery cycle life before capacity degradation\" KA Severson, et al. Nature Energy 4 (5), 383-391\n",
    "\n",
    "This data is available for download from https://data.matr.io/1/ . For brevity, only one test is included in this notebook but the example can easily be extended to a larger number of files."
   ]
  },
  {
   "cell_type": "code",
   "execution_count": 2,
   "metadata": {
    "collapsed": true,
    "jupyter": {
     "outputs_hidden": true
    }
   },
   "outputs": [
    {
     "name": "stdout",
     "output_type": "stream",
     "text": [
      "Collecting beep\n",
      "\u001b[?25l  Downloading https://files.pythonhosted.org/packages/aa/fc/bb3821d052f31b053b7eee0c78f1b5246e44166707a2c994689409076004/beep-2020.5.24-py3-none-any.whl (108kB)\n",
      "\u001b[K    100% |████████████████████████████████| 112kB 5.0MB/s ta 0:00:01\n",
      "\u001b[?25hCollecting xmltodict==0.12.0 (from beep)\n",
      "  Downloading https://files.pythonhosted.org/packages/28/fd/30d5c1d3ac29ce229f6bdc40bbc20b28f716e8b363140c26eff19122d8a5/xmltodict-0.12.0-py2.py3-none-any.whl\n",
      "Collecting tqdm==4.43.0 (from beep)\n",
      "\u001b[?25l  Downloading https://files.pythonhosted.org/packages/47/55/fd9170ba08a1a64a18a7f8a18f088037316f2a41be04d2fe6ece5a653e8f/tqdm-4.43.0-py2.py3-none-any.whl (59kB)\n",
      "\u001b[K    100% |████████████████████████████████| 61kB 18.1MB/s ta 0:00:01\n",
      "\u001b[?25hCollecting psycopg2==2.7.7 (from beep)\n",
      "\u001b[?25l  Downloading https://files.pythonhosted.org/packages/37/25/53e8398975aa3323de46a5cc2745aeb4c9db11352ca905d3a15c53b6a816/psycopg2-2.7.7-cp36-cp36m-manylinux1_x86_64.whl (2.7MB)\n",
      "\u001b[K    100% |████████████████████████████████| 2.7MB 12.2MB/s ta 0:00:01\n",
      "\u001b[?25hCollecting monty[yaml]==3.0.2 (from beep)\n",
      "\u001b[?25l  Downloading https://files.pythonhosted.org/packages/b1/a4/d57b127ad2103ebc1a21a9c6379abc10d5f57f5d92cac86532c15a43818f/monty-3.0.2-py3-none-any.whl (61kB)\n",
      "\u001b[K    100% |████████████████████████████████| 61kB 27.5MB/s ta 0:00:01\n",
      "\u001b[?25hCollecting numpy==1.18.1 (from beep)\n",
      "\u001b[?25l  Downloading https://files.pythonhosted.org/packages/62/20/4d43e141b5bc426ba38274933ef8e76e85c7adea2c321ecf9ebf7421cedf/numpy-1.18.1-cp36-cp36m-manylinux1_x86_64.whl (20.1MB)\n",
      "\u001b[K    100% |████████████████████████████████| 20.2MB 2.4MB/s eta 0:00:01\n",
      "\u001b[?25hCollecting scipy==1.4.1 (from beep)\n",
      "  Using cached https://files.pythonhosted.org/packages/dc/29/162476fd44203116e7980cfbd9352eef9db37c49445d1fec35509022f6aa/scipy-1.4.1-cp36-cp36m-manylinux1_x86_64.whl\n",
      "Requirement already satisfied: scikit-learn==0.20.3 in /home/ec2-user/anaconda3/envs/python3/lib/python3.6/site-packages (from beep) (0.20.3)\n",
      "Requirement already satisfied: docopt==0.6.2 in /home/ec2-user/anaconda3/envs/python3/lib/python3.6/site-packages (from beep) (0.6.2)\n",
      "Collecting lmfit==1.0.1 (from beep)\n",
      "\u001b[?25l  Downloading https://files.pythonhosted.org/packages/d1/2e/9e4cdcebf93603ce57bc7577707ad56ed1282ae306f611e525612b9cfeea/lmfit-1.0.1.tar.gz (258kB)\n",
      "\u001b[K    100% |████████████████████████████████| 266kB 36.9MB/s ta 0:00:01\n",
      "\u001b[?25hCollecting pytz==2019.3 (from beep)\n",
      "\u001b[?25l  Downloading https://files.pythonhosted.org/packages/e7/f9/f0b53f88060247251bf481fa6ea62cd0d25bf1b11a87888e53ce5b7c8ad2/pytz-2019.3-py2.py3-none-any.whl (509kB)\n",
      "\u001b[K    100% |████████████████████████████████| 512kB 31.9MB/s ta 0:00:01\n",
      "\u001b[?25hCollecting python-dateutil==2.8.0 (from beep)\n",
      "\u001b[?25l  Downloading https://files.pythonhosted.org/packages/41/17/c62faccbfbd163c7f57f3844689e3a78bae1f403648a6afb1d0866d87fbb/python_dateutil-2.8.0-py2.py3-none-any.whl (226kB)\n",
      "\u001b[K    100% |████████████████████████████████| 235kB 40.4MB/s ta 0:00:01\n",
      "\u001b[?25hCollecting pandas==1.0.1 (from beep)\n",
      "\u001b[?25l  Downloading https://files.pythonhosted.org/packages/08/ec/b5dd8cfb078380fb5ae9325771146bccd4e8cad2d3e4c72c7433010684eb/pandas-1.0.1-cp36-cp36m-manylinux1_x86_64.whl (10.1MB)\n",
      "\u001b[K    100% |████████████████████████████████| 10.1MB 5.6MB/s eta 0:00:01\n",
      "\u001b[?25hCollecting cerberus==1.3.2 (from beep)\n",
      "\u001b[?25l  Downloading https://files.pythonhosted.org/packages/90/a7/71c6ed2d46a81065e68c007ac63378b96fa54c7bb614d653c68232f9c50c/Cerberus-1.3.2.tar.gz (52kB)\n",
      "\u001b[K    100% |████████████████████████████████| 61kB 30.8MB/s ta 0:00:01\n",
      "\u001b[?25hCollecting botocore==1.15.4 (from beep)\n",
      "\u001b[?25l  Downloading https://files.pythonhosted.org/packages/90/77/9375acdf2975cc4352e6f8895f254398ff475517bfeeb505e68b16f581a6/botocore-1.15.4-py2.py3-none-any.whl (5.9MB)\n",
      "\u001b[K    100% |████████████████████████████████| 5.9MB 9.1MB/s eta 0:00:01\n",
      "\u001b[?25hRequirement already satisfied: msgpack-python==0.5.6 in /home/ec2-user/anaconda3/envs/python3/lib/python3.6/site-packages (from beep) (0.5.6)\n",
      "Collecting boto3==1.12.4 (from beep)\n",
      "\u001b[?25l  Downloading https://files.pythonhosted.org/packages/45/e9/3ce5df81d70dc3cd19e71bc5b741cad7ff04b7748c46ec545875de89cfb1/boto3-1.12.4-py2.py3-none-any.whl (128kB)\n",
      "\u001b[K    100% |████████████████████████████████| 133kB 41.3MB/s ta 0:00:01\n",
      "\u001b[?25hCollecting watchtower==0.7.3 (from beep)\n",
      "  Downloading https://files.pythonhosted.org/packages/e1/ad/a891df8edb54720c981b1f696611292ce24c8e02a20898f32efcb9d1f5ff/watchtower-0.7.3-py2.py3-none-any.whl\n",
      "Collecting tables==3.6.1 (from beep)\n",
      "\u001b[?25l  Downloading https://files.pythonhosted.org/packages/ed/c3/8fd9e3bb21872f9d69eb93b3014c86479864cca94e625fd03713ccacec80/tables-3.6.1-cp36-cp36m-manylinux1_x86_64.whl (4.3MB)\n",
      "\u001b[K    100% |████████████████████████████████| 4.3MB 15.5MB/s ta 0:00:01\n",
      "\u001b[?25hCollecting ruamel.yaml; extra == \"yaml\" (from monty[yaml]==3.0.2->beep)\n",
      "\u001b[?25l  Downloading https://files.pythonhosted.org/packages/a6/92/59af3e38227b9cc14520bf1e59516d99ceca53e3b8448094248171e9432b/ruamel.yaml-0.16.10-py2.py3-none-any.whl (111kB)\n",
      "\u001b[K    100% |████████████████████████████████| 112kB 34.8MB/s ta 0:00:01\n",
      "\u001b[?25hCollecting asteval>=0.9.16 (from lmfit==1.0.1->beep)\n",
      "\u001b[?25l  Downloading https://files.pythonhosted.org/packages/e4/3b/8aaee90977588fa3e88d7a495af306d6f4a1c1c01c8f0fe0de1fc43d0908/asteval-0.9.18.tar.gz (52kB)\n",
      "\u001b[K    100% |████████████████████████████████| 61kB 30.2MB/s ta 0:00:01\n",
      "\u001b[?25hCollecting uncertainties>=3.0.1 (from lmfit==1.0.1->beep)\n",
      "\u001b[?25l  Downloading https://files.pythonhosted.org/packages/2a/c2/babbe5b16141859dd799ed31c03987100a7b6d0ca7c0ed4429c96ce60fdf/uncertainties-3.1.2.tar.gz (232kB)\n",
      "\u001b[K    100% |████████████████████████████████| 235kB 37.7MB/s ta 0:00:01\n",
      "\u001b[?25hRequirement already satisfied: six>=1.5 in /home/ec2-user/anaconda3/envs/python3/lib/python3.6/site-packages (from python-dateutil==2.8.0->beep) (1.11.0)\n",
      "Requirement already satisfied: setuptools in /home/ec2-user/anaconda3/envs/python3/lib/python3.6/site-packages (from cerberus==1.3.2->beep) (39.1.0)\n",
      "Requirement already satisfied: docutils<0.16,>=0.10 in /home/ec2-user/anaconda3/envs/python3/lib/python3.6/site-packages (from botocore==1.15.4->beep) (0.14)\n",
      "Requirement already satisfied: jmespath<1.0.0,>=0.7.1 in /home/ec2-user/anaconda3/envs/python3/lib/python3.6/site-packages (from botocore==1.15.4->beep) (0.9.4)\n",
      "Requirement already satisfied: urllib3<1.26,>=1.20; python_version != \"3.4\" in /home/ec2-user/anaconda3/envs/python3/lib/python3.6/site-packages (from botocore==1.15.4->beep) (1.23)\n",
      "Requirement already satisfied: s3transfer<0.4.0,>=0.3.0 in /home/ec2-user/anaconda3/envs/python3/lib/python3.6/site-packages (from boto3==1.12.4->beep) (0.3.3)\n",
      "Requirement already satisfied: numexpr>=2.6.2 in /home/ec2-user/anaconda3/envs/python3/lib/python3.6/site-packages (from tables==3.6.1->beep) (2.6.5)\n",
      "Collecting ruamel.yaml.clib>=0.1.2; platform_python_implementation == \"CPython\" and python_version < \"3.9\" (from ruamel.yaml; extra == \"yaml\"->monty[yaml]==3.0.2->beep)\n",
      "\u001b[?25l  Downloading https://files.pythonhosted.org/packages/53/77/4bcd63f362bcb6c8f4f06253c11f9772f64189bf08cf3f40c5ccbda9e561/ruamel.yaml.clib-0.2.0-cp36-cp36m-manylinux1_x86_64.whl (548kB)\n",
      "\u001b[K    100% |████████████████████████████████| 552kB 29.9MB/s ta 0:00:01\n",
      "\u001b[?25hBuilding wheels for collected packages: lmfit, cerberus, asteval, uncertainties\n",
      "  Running setup.py bdist_wheel for lmfit ... \u001b[?25ldone\n",
      "\u001b[?25h  Stored in directory: /home/ec2-user/.cache/pip/wheels/ef/22/8d/6cd9c0af36f501cfb248673b05dad5d2c27504951d55519acb\n",
      "  Running setup.py bdist_wheel for cerberus ... \u001b[?25ldone\n",
      "\u001b[?25h  Stored in directory: /home/ec2-user/.cache/pip/wheels/e9/38/1f/f2cc84182676f3ae7134b9b2d744f9c235b24d2ddc8f7fe465\n",
      "  Running setup.py bdist_wheel for asteval ... \u001b[?25ldone\n",
      "\u001b[?25h  Stored in directory: /home/ec2-user/.cache/pip/wheels/1c/53/1b/28d929700c9633b1786a4982e6db564ec8326a8930234dcc19\n",
      "  Running setup.py bdist_wheel for uncertainties ... \u001b[?25ldone\n",
      "\u001b[?25h  Stored in directory: /home/ec2-user/.cache/pip/wheels/d9/d3/0e/5b0b743a8abd50373705427438456da5dc2621891138d7a618\n",
      "Successfully built lmfit cerberus asteval uncertainties\n",
      "\u001b[31mawscli 1.18.39 has requirement botocore==1.15.39, but you'll have botocore 1.15.4 which is incompatible.\u001b[0m\n",
      "Installing collected packages: xmltodict, tqdm, psycopg2, ruamel.yaml.clib, ruamel.yaml, monty, numpy, scipy, asteval, uncertainties, lmfit, pytz, python-dateutil, pandas, cerberus, botocore, boto3, watchtower, tables, beep\n",
      "  Found existing installation: psycopg2 2.7.5\n",
      "    Uninstalling psycopg2-2.7.5:\n",
      "      Successfully uninstalled psycopg2-2.7.5\n",
      "  Found existing installation: numpy 1.14.3\n",
      "    Uninstalling numpy-1.14.3:\n",
      "      Successfully uninstalled numpy-1.14.3\n",
      "  Found existing installation: scipy 1.1.0\n",
      "    Uninstalling scipy-1.1.0:\n",
      "      Successfully uninstalled scipy-1.1.0\n",
      "  Found existing installation: pytz 2018.4\n",
      "    Uninstalling pytz-2018.4:\n",
      "      Successfully uninstalled pytz-2018.4\n",
      "  Found existing installation: python-dateutil 2.7.3\n",
      "    Uninstalling python-dateutil-2.7.3:\n",
      "      Successfully uninstalled python-dateutil-2.7.3\n",
      "  Found existing installation: pandas 0.24.2\n",
      "    Uninstalling pandas-0.24.2:\n",
      "      Successfully uninstalled pandas-0.24.2\n",
      "  Found existing installation: botocore 1.15.39\n",
      "    Uninstalling botocore-1.15.39:\n",
      "      Successfully uninstalled botocore-1.15.39\n",
      "  Found existing installation: boto3 1.12.39\n",
      "    Uninstalling boto3-1.12.39:\n",
      "      Successfully uninstalled boto3-1.12.39\n",
      "  Found existing installation: tables 3.4.3\n",
      "    Uninstalling tables-3.4.3:\n",
      "      Successfully uninstalled tables-3.4.3\n",
      "Successfully installed asteval-0.9.18 beep-2020.5.24 boto3-1.12.4 botocore-1.15.4 cerberus-1.3.2 lmfit-1.0.1 monty-3.0.2 numpy-1.18.1 pandas-1.0.1 psycopg2-2.7.7 python-dateutil-2.8.0 pytz-2019.3 ruamel.yaml-0.16.10 ruamel.yaml.clib-0.2.0 scipy-1.4.1 tables-3.6.1 tqdm-4.43.0 uncertainties-3.1.2 watchtower-0.7.3 xmltodict-0.12.0\n",
      "\u001b[33mYou are using pip version 10.0.1, however version 20.2b1 is available.\n",
      "You should consider upgrading via the 'pip install --upgrade pip' command.\u001b[0m\n"
     ]
    }
   ],
   "source": [
    "!pip install beep"
   ]
  },
  {
   "cell_type": "markdown",
   "metadata": {},
   "source": [
    "## BEEP imports\n",
    "The main modules used in the data pipeline are `validate`, `structure`, and `featurize`. Development of the `featurize` and `run_model` modules are ongoing since they represent the scientific research into the mechanisms of battery degradation and the goals of prediction.\n",
    "The data structure uses the `MSONable` data format from `monty` which is close to json, but allows the package to store pandas dataframes with characters that are not allowed in standard json format. "
   ]
  },
  {
   "cell_type": "code",
   "execution_count": 53,
   "metadata": {},
   "outputs": [
    {
     "name": "stdout",
     "output_type": "stream",
     "text": [
      "env: BEEP_ENV=dev\n",
      "env: BEEP_PROCESSING_DIR=tutorial\n"
     ]
    }
   ],
   "source": [
    "import requests\n",
    "import os\n",
    "import numpy as np\n",
    "import pandas as pd\n",
    "from monty.json import MSONable\n",
    "from monty.serialization import loadfn, dumpfn\n",
    "from scipy.stats import skew\n",
    "from glob import glob\n",
    "from datetime import datetime\n",
    "import matplotlib.pyplot as plt\n",
    "%env BEEP_ENV=dev\n",
    "%env BEEP_PROCESSING_DIR=tutorial\n",
    "from beep import validate, structure, featurize, run_model, generate_protocol\n",
    "import json\n",
    "import glob"
   ]
  },
  {
   "cell_type": "markdown",
   "metadata": {},
   "source": [
    "## File Download\n",
    "The example data set we are using here comes from a set of A123 LFP cells cycled under fast charge conditions. While cell is configured for downloading a single cell, its also possible to download the entire data set and run all of the processing steps on all of the data. Note that for Arbin files, it is necessary to have the metadata file in addition to the data file in order to perform the data structuring correctly.\n"
   ]
  },
  {
   "cell_type": "code",
   "execution_count": 54,
   "metadata": {},
   "outputs": [
    {
     "name": "stdout",
     "output_type": "stream",
     "text": [
      "Beginning file download with requests\n",
      "200\n",
      "text/csv\n",
      "ISO-8859-1\n"
     ]
    }
   ],
   "source": [
    "print('Beginning file download with requests')\n",
    "data_dir = './Severson-et-al/'\n",
    "\n",
    "try:\n",
    "    os.makedirs(data_dir)\n",
    "except FileExistsError:\n",
    "    pass\n",
    "\n",
    "url = 'https://data.matr.io/1/api/v1/file/5c86c0bafa2ede00015ddf70/download'\n",
    "r = requests.get(url)\n",
    "\n",
    "with open(os.path.join(data_dir, '2017-05-12_6C-50per_3_6C_CH36.csv'), 'wb') as f:\n",
    "    f.write(r.content)\n",
    "    \n",
    "url = 'https://data.matr.io/1/api/v1/file/5c86c0b5fa2ede00015ddf6d/download'\n",
    "r = requests.get(url)\n",
    "\n",
    "with open(os.path.join(data_dir, '2017-05-12_6C-50per_3_6C_CH36_Metadata.csv'), 'wb') as f:\n",
    "    f.write(r.content)\n",
    "\n",
    "# Retrieve HTTP meta-data\n",
    "print(r.status_code)\n",
    "print(r.headers['content-type'])\n",
    "print(r.encoding)"
   ]
  },
  {
   "cell_type": "markdown",
   "metadata": {},
   "source": [
    "## Data pipeline\n",
    "This cell creates a list of all of the files in the data directory and then runs the data pipeline processing steps on each of the files.\n",
    "\n",
    "#### Validation\n",
    "This module determine if the data conforms to expected format with the correct column names and with values inside an expected range.\n",
    "\n",
    "#### Structuring\n",
    "The structuring module turns the time series data from the cycler machine into a json-like structure with DataFrame objects. The DataFrame objects include a summary DataFrame with per cycle statistics, and a DataFrame with interpolated charge and discharge steps of the regular cycles. For files that have diagnostic cycles that were programmatically inserted, separate DataFrame objects are created with summary statistics and interpolated steps for the diagnostic cycles.\n",
    "\n",
    "#### Featurization\n",
    "Featurization uses the structured objects to calculate statistically and physically relevant quantities for the purpose of building predictive machine learning models. The objects can be selected and joined for the purposes of training the model, or used for predicting individual outcomes."
   ]
  },
  {
   "cell_type": "code",
   "execution_count": 55,
   "metadata": {},
   "outputs": [
    {
     "name": "stderr",
     "output_type": "stream",
     "text": [
      "100%|██████████| 1/1 [00:01<00:00,  1.53s/it]\n"
     ]
    },
    {
     "name": "stdout",
     "output_type": "stream",
     "text": [
      "{\"file_list\": [\"./Severson-et-al/2017-05-12_6C-50per_3_6C_CH36.csv\"], \"run_list\": [0], \"validity\": [\"valid\"], \"message_list\": [{\"comment\": \"\", \"error\": \"\"}], \"mode\": \"events_off\"}\n"
     ]
    },
    {
     "name": "stderr",
     "output_type": "stream",
     "text": [
      "100%|██████████| 877/877 [01:59<00:00,  7.32it/s]\n",
      "100%|██████████| 877/877 [02:08<00:00,  6.84it/s]\n"
     ]
    },
    {
     "name": "stdout",
     "output_type": "stream",
     "text": [
      "{\"file_list\": [\"/home/ec2-user/SageMaker/tutorial/data-share/structure/2017-05-12_6C-50per_3_6C_CH36_structure.json\"], \"run_list\": [0], \"result_list\": [\"success\"], \"message_list\": [{\"comment\": \"\", \"error\": \"\"}], \"invalid_file_list\": [], \"mode\": \"events_off\"}\n",
      "{\"file_list\": [\"/home/ec2-user/SageMaker/tutorial/data-share/features/DeltaQFastCharge/2017-05-12_6C-50per_3_6C_CH36_features_DeltaQFastCharge.json\", \"/home/ec2-user/SageMaker/tutorial/data-share/features/TrajectoryFastCharge/2017-05-12_6C-50per_3_6C_CH36_features_TrajectoryFastCharge.json\"], \"run_list\": [0], \"result_list\": [\"success\", \"success\"], \"message_list\": [{\"comment\": \"\", \"error\": \"\"}, {\"comment\": \"\", \"error\": \"\"}], \"mode\": \"events_off\"}\n"
     ]
    }
   ],
   "source": [
    "data_dir = './Severson-et-al/'\n",
    "file_list = glob.glob(os.path.join(data_dir, '*[0-9].csv'))\n",
    "\n",
    "mode = 'events_off'\n",
    "mapped  =  {\n",
    "            \"mode\": 'events_off',  # mode run|test|events_off\n",
    "            \"file_list\": file_list,  # list of file paths ['path/test1.csv', 'path/test2.csv']\n",
    "            'run_list': list(range(len(file_list)))  # list of run_ids [0, 1]\n",
    "            }\n",
    "mapped = json.dumps(mapped)\n",
    "# Validation\n",
    "validated = validate.validate_file_list_from_json(\n",
    "    mapped)\n",
    "validated_output = json.loads(validated)\n",
    "validated_output['mode'] = mode  # mode run|test|events_off\n",
    "validated_output['run_list'] = list(range(len(validated_output['file_list'])))\n",
    "validated = json.dumps(validated_output)\n",
    "\n",
    "print(validated)\n",
    "\n",
    "# Data structuring\n",
    "structured = structure.process_file_list_from_json(\n",
    "    validated)\n",
    "structured_output = json.loads(structured)\n",
    "structured_output['mode'] = mode  # mode run|test|events_off\n",
    "structured_output['run_list'] = list(range(len(file_list)))\n",
    "structured = json.dumps(structured_output)\n",
    "\n",
    "print(structured)\n",
    "\n",
    "# Featurization\n",
    "featurized = featurize.process_file_list_from_json(\n",
    "    structured)\n",
    "featurized_output = json.loads(featurized)\n",
    "featurized_output['mode'] = mode  # mode run|test|events_off\n",
    "featurized_output['run_list'] = list(range(len(file_list)))\n",
    "featurized = json.dumps(featurized_output)\n",
    "\n",
    "print(featurized)"
   ]
  },
  {
   "cell_type": "markdown",
   "metadata": {},
   "source": [
    "### Interpolated cycles\n",
    "The code below demonstrates how to access the DataFrame objects in the structure file. Loading the file is substantially faster than analyzing the raw time series data. The interpolated data also provides the ability to calculate differences between cycles."
   ]
  },
  {
   "cell_type": "code",
   "execution_count": 56,
   "metadata": {},
   "outputs": [
    {
     "name": "stdout",
     "output_type": "stream",
     "text": [
      "4.6974263191223145\n",
      "876\n",
      "1.1737735\n",
      "1.1737735\n"
     ]
    },
    {
     "data": {
      "text/plain": [
       "[<matplotlib.lines.Line2D at 0x7f35e86beb70>]"
      ]
     },
     "execution_count": 56,
     "metadata": {},
     "output_type": "execute_result"
    },
    {
     "data": {
      "image/png": "[encoded data removed]",
      "text/plain": [
       "<Figure size 432x288 with 1 Axes>"
      ]
     },
     "metadata": {},
     "output_type": "display_data"
    }
   ],
   "source": [
    "processing_dir = %env BEEP_PROCESSING_DIR\n",
    "struct = loadfn(os.path.join(processing_dir, 'data-share', 'structure', '2017-05-12_6C-50per_3_6C_CH36_structure.json'))\n",
    "reg_charge = struct.cycles_interpolated[struct.cycles_interpolated.step_type == 'charge']\n",
    "print(reg_charge.current[reg_charge.cycle_index == 25].mean())\n",
    "print(reg_charge.cycle_index.max())\n",
    "print(reg_charge.charge_capacity[reg_charge.cycle_index == 25].max())\n",
    "print(reg_charge.charge_capacity[reg_charge.cycle_index == 600].max())\n",
    "plt.plot(reg_charge.charge_capacity[reg_charge.cycle_index == 600], reg_charge.voltage[reg_charge.cycle_index == 600])"
   ]
  },
  {
   "cell_type": "markdown",
   "metadata": {},
   "source": [
    "### Summary data\n",
    "The summary data provides a quick way of determine how the battery cell degrades during the cycling experiment. Quantities such as energy efficiency per cycle and total charge throughput at a given cycle number are calculated."
   ]
  },
  {
   "cell_type": "code",
   "execution_count": 58,
   "metadata": {},
   "outputs": [
    {
     "data": {
      "text/plain": [
       "[<matplotlib.lines.Line2D at 0x7f35f91d7828>]"
      ]
     },
     "execution_count": 58,
     "metadata": {},
     "output_type": "execute_result"
    },
    {
     "data": {
      "image/png": "[encoded data removed]",
      "text/plain": [
       "<Figure size 432x288 with 1 Axes>"
      ]
     },
     "metadata": {},
     "output_type": "display_data"
    }
   ],
   "source": [
    "plt.plot(struct.summary.cycle_index, struct.summary.energy_efficiency)"
   ]
  }
 ],
 "metadata": {
  "kernelspec": {
   "display_name": "conda_python3",
   "language": "python",
   "name": "conda_python3"
  },
  "language_info": {
   "codemirror_mode": {
    "name": "ipython",
    "version": 3
   },
   "file_extension": ".py",
   "mimetype": "text/x-python",
   "name": "python",
   "nbconvert_exporter": "python",
   "pygments_lexer": "ipython3",
   "version": "3.6.5"
  }
 },
 "nbformat": 4,
 "nbformat_minor": 4
}
